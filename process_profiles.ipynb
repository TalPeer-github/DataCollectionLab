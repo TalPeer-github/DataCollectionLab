{
 "cells": [
  {
   "cell_type": "code",
   "execution_count": null,
   "outputs": [],
   "source": [
    "# !pip install thefuzz\n",
    "# !pip install rapidfuzz"
   ],
   "metadata": {
    "collapsed": false
   },
   "id": "6f05a87b0847486e"
  },
  {
   "cell_type": "code",
   "execution_count": 328,
   "outputs": [],
   "source": [
    "import pandas as pd\n",
    "import glob\n",
    "import rapidfuzz.utils\n",
    "import thefuzz\n",
    "from thefuzz import process, utils\n",
    "from copy import copy\n",
    "import ast\n",
    "from rapidfuzz import fuzz as rapidfuzz\n",
    "\n",
    "\n",
    "VALUE_ERROR = -1"
   ],
   "metadata": {
    "collapsed": false,
    "ExecuteTime": {
     "start_time": "2024-04-07T17:19:26.729144200Z"
    }
   },
   "id": "initial_id"
  },
  {
   "cell_type": "markdown",
   "source": [
    "##### Next cell is not relevant, you may skip it"
   ],
   "metadata": {
    "collapsed": false
   },
   "id": "343c8a4da110aaee"
  },
  {
   "cell_type": "code",
   "execution_count": 10,
   "outputs": [],
   "source": [
    "path = 'data/job_links/processed/'\n",
    "dfs = []\n",
    "csv_files = glob.glob(f'{path}*.csv')\n",
    "for chunk_id, file_name in enumerate(csv_files):\n",
    "    df = pd.read_csv(file_name)\n",
    "    df['chunk'] = [chunk_id] * df.shape[0]\n",
    "    dfs.append(pd.read_csv(file_name))"
   ],
   "metadata": {
    "collapsed": false,
    "ExecuteTime": {
     "end_time": "2024-04-06T11:33:56.144276200Z",
     "start_time": "2024-04-06T11:33:55.598906700Z"
    }
   },
   "id": "4b234e2d46573bfd"
  },
  {
   "cell_type": "code",
   "execution_count": 194,
   "outputs": [],
   "source": [
    "path = 'data/profiles/raw_samples/'\n",
    "dfs2 = []\n",
    "csv_files = glob.glob(f'{path}*.csv')\n",
    "for chunk_id, file_name in enumerate(csv_files):\n",
    "    df = pd.read_csv(file_name)\n",
    "    df['chunk'] = [chunk_id] * df.shape[0]\n",
    "    dfs2.append(df)"
   ],
   "metadata": {
    "collapsed": false,
    "ExecuteTime": {
     "end_time": "2024-04-07T15:43:25.470918300Z",
     "start_time": "2024-04-07T15:43:25.244663Z"
    }
   },
   "id": "e7120efb5fa19416"
  },
  {
   "cell_type": "code",
   "execution_count": 195,
   "outputs": [],
   "source": [
    "merged_df_moti = pd.concat(dfs, axis=0)\n",
    "merged_df_profiles = pd.concat(dfs2, axis=0)"
   ],
   "metadata": {
    "collapsed": false,
    "ExecuteTime": {
     "end_time": "2024-04-07T15:43:29.873556Z",
     "start_time": "2024-04-07T15:43:29.680979400Z"
    }
   },
   "id": "52aa88a1c54dda1b"
  },
  {
   "cell_type": "code",
   "execution_count": 196,
   "outputs": [],
   "source": [
    "choices = pd.read_csv('data/top_titles.csv').iloc[:, 0].to_list()\n",
    "\n",
    "def get_match(title):\n",
    "    matches = process.extractOne(title, choices, scorer=rapidfuzz.token_set_ratio,\n",
    "                                 processor=thefuzz.process.default_processor)\n",
    "    if matches[1] < 90:\n",
    "        return None\n",
    "    return matches[0]"
   ],
   "metadata": {
    "collapsed": false,
    "ExecuteTime": {
     "end_time": "2024-04-07T15:43:32.796944100Z",
     "start_time": "2024-04-07T15:43:32.553904Z"
    }
   },
   "id": "7d1872c566bf196b"
  },
  {
   "cell_type": "code",
   "execution_count": 197,
   "outputs": [],
   "source": [
    "df = merged_df_profiles\n",
    "df = df[df.position.str.contains(r'[a-zA-Z]', na=False)].reset_index().rename(\n",
    "    {'index': \"position_idx\"}, axis=1).drop_duplicates(subset=['position'], keep='first')\n",
    "df['narrow_position'] = df['position'].apply(lambda x: get_match(x))\n",
    "df.dropna(subset=['narrow_position'], inplace=True)"
   ],
   "metadata": {
    "collapsed": false,
    "ExecuteTime": {
     "end_time": "2024-04-07T15:44:00.867062700Z",
     "start_time": "2024-04-07T15:43:35.443881500Z"
    }
   },
   "id": "a2e5d21afb4cf98a"
  },
  {
   "cell_type": "code",
   "execution_count": 319,
   "outputs": [],
   "source": [
    "map_df = pd.read_csv('data/alternative_titles_map.csv').drop_duplicates(subset=['alternative_titles'],keep='first')\n",
    "alt_df = pd.read_csv('data/alternate_titles.csv').rename({'Alternate Title':'alternative_titles','Title':'title'},axis=1)\n",
    "\n",
    "def find_narrowed_match(pos_title,exp_title):\n",
    "    try:\n",
    "        title_item = map_df.loc[map_df['alternative_titles'] == pos_title, 'title'].item()\n",
    "        find_match_in = ast.literal_eval(alt_df.loc[alt_df['title'] == title_item, 'alternative_titles'].values[0])\n",
    "        matches = process.extractOne(exp_title, find_match_in, scorer=rapidfuzz.token_set_ratio, processor=thefuzz.process.default_processor)\n",
    "        return matches[0]\n",
    "    except Exception as e:\n",
    "        return VALUE_ERROR"
   ],
   "metadata": {
    "collapsed": false,
    "ExecuteTime": {
     "end_time": "2024-04-07T17:03:13.697609Z",
     "start_time": "2024-04-07T17:03:13.612660100Z"
    }
   },
   "id": "429cea4c4d522d52"
  },
  {
   "cell_type": "markdown",
   "source": [
    "#### Adjust values in the next block:\n",
    "> to_csv : weather to save the results\n",
    "> \n",
    "> minimum_match_score: minimum required match score between position and prev_experience title for considering them \"similar\"\n",
    "> \n",
    "> count_threshold: currently not relevant, threshold as described in the tasks google sheet section (2.c)"
   ],
   "metadata": {
    "collapsed": false
   },
   "id": "e736d013694348e"
  },
  {
   "cell_type": "code",
   "execution_count": null,
   "outputs": [],
   "source": [
    "to_csv = False\n",
    "narrowed_size = len(choices)\n",
    "minimum_match_score = 90\n",
    "done_count = 0\n",
    "count_threshold = 120"
   ],
   "metadata": {
    "collapsed": false
   },
   "id": "976cfbaf7aff9e95"
  },
  {
   "cell_type": "code",
   "execution_count": null,
   "outputs": [],
   "source": [
    "records = {}\n",
    "titles_count = {title: count_threshold for title in choices}\n",
    "titles_collection_done = {title: False for title in choices}\n",
    "\n",
    "for _, item in df.iterrows():\n",
    "    record_item = copy(item.to_dict())\n",
    "    orig_pos = item['position']\n",
    "    pos = item['narrow_position']\n",
    "    titles_count[pos] -= 1\n",
    "    if not titles_collection_done[pos] and titles_count[pos] == 0:\n",
    "        titles_collection_done[pos] = True\n",
    "        done_count += 1\n",
    "    experience = ast.literal_eval(item['title'])\n",
    "    duration_short = ast.literal_eval(item['duration_in_years'])\n",
    "    new_exp = []\n",
    "    new_dur = []\n",
    "    time_in_position = 0\n",
    "    for i, exp in enumerate(experience):\n",
    "        if rapidfuzz.partial_token_set_ratio(orig_pos, exp) >= minimum_match_score:\n",
    "            time_in_position += duration_short[i]\n",
    "        else:\n",
    "            match_exp_title = find_narrowed_match(pos, experience[i])\n",
    "            if match_exp_title != VALUE_ERROR:\n",
    "                new_exp.append(match_exp_title)\n",
    "                new_dur.append(duration_short[i])\n",
    "    records[orig_pos] = record_item | {'years_in_position': time_in_position, 'prev_experience': new_exp,\n",
    "                                       'experience_duration': new_dur}\n",
    "    if done_count == narrowed_size:\n",
    "        break\n",
    "        \n",
    "result_df = pd.DataFrame.from_dict(records, orient='index')\n",
    "if to_csv:\n",
    "    result_df.reset_index(drop=True).to_csv('data/processed_profiles.csv', index=False)"
   ],
   "metadata": {
    "collapsed": false
   },
   "id": "cd90de2df1868edb"
  }
 ],
 "metadata": {
  "kernelspec": {
   "display_name": "Python 3",
   "language": "python",
   "name": "python3"
  },
  "language_info": {
   "codemirror_mode": {
    "name": "ipython",
    "version": 2
   },
   "file_extension": ".py",
   "mimetype": "text/x-python",
   "name": "python",
   "nbconvert_exporter": "python",
   "pygments_lexer": "ipython2",
   "version": "2.7.6"
  }
 },
 "nbformat": 4,
 "nbformat_minor": 5
}
