{
 "cells": [
  {
   "cell_type": "code",
   "execution_count": null,
   "id": "initial_id",
   "metadata": {
    "collapsed": true
   },
   "outputs": [],
   "source": [
    "import ast\n",
    "import matplotlib.pyplot as plt\n",
    "from wordcloud import WordCloud, STOPWORDS\n",
    "import re\n",
    "from collections import Counter\n",
    "import pandas as pd\n",
    "import textwrap\n",
    "import seaborn as sns"
   ]
  },
  {
   "cell_type": "code",
   "execution_count": null,
   "outputs": [],
   "source": [
    "entity_match_results = pd.read_csv('data/clean_tables/profiles.csv') "
   ],
   "metadata": {
    "collapsed": false
   },
   "id": "76da36ff69e812e2"
  },
  {
   "cell_type": "code",
   "execution_count": null,
   "outputs": [],
   "source": [
    "entity_match_results.head(5)"
   ],
   "metadata": {
    "collapsed": false
   },
   "id": "fe4b7ef3176c823f"
  },
  {
   "cell_type": "code",
   "execution_count": null,
   "outputs": [],
   "source": [
    "colors = ['#164863', '#427D9D', '#9BBEC8', '#DDF2FD', '#F2EBE9', '#6B818C']\n",
    "\n",
    "\n",
    "def plot_position_data2(df, position_title):\n",
    "    def generate_summary_text(skills_counts, education_counts):\n",
    "        top_skills_text = \"\\n\".join([\n",
    "                                        f\"- {skill}, with {(count / len(skills_counts.items())) * 100} % of the {position_title}s skills we've collected\"\n",
    "                                        for skill, count in skills_counts.items()][:5])\n",
    "        top_education_text = \"\\n\".join(\n",
    "            [f\"- {education}: {(count / len(education_counts.items())) * 100} % of the education mentions\" for\n",
    "             education, count in education_counts.items()][:5])\n",
    "\n",
    "        summary_text = f\"For the position of {position_title}, the top skills are:\\n{top_skills_text}\\n\\n\"\n",
    "        summary_text += f\"Also, the top education levels are:\\n{top_education_text}\"\n",
    "        summary_text = \"Placeholder for future implementation :)\"\n",
    "        return summary_text\n",
    "\n",
    "    def create_word_cloud(bag_of_words):\n",
    "        custom_stopwords = set(STOPWORDS)\n",
    "        custom_stopwords.update({\"job\", \"title\", \"position\", \"at\", \"end\", \"of\", \"skills\", \"0\", \"1\"})\n",
    "        wordcloud = WordCloud(width=800, height=400, background_color='white',\n",
    "                              stopwords={\"job\", \"title\", \"position\", \"at\", \"end\", \"of\", \"skills\", \"0\", \"1\"},\n",
    "                              colormap='Blues', collocation_threshold=20).generate_from_frequencies(bag_of_words)\n",
    "        plt.figure(figsize=(10, 8))\n",
    "        plt.imshow(wordcloud, interpolation='bilinear')\n",
    "        plt.title(f\"Bag of Words - {position_title} Required Skills\")\n",
    "        plt.axis('off')\n",
    "        plt.show()\n",
    "\n",
    "    def create_bag_of_words(df):\n",
    "        all_skills = ' '.join(df['skills'].values.astype(str))\n",
    "        words = re.findall(r'\\b[a-zA-Z]+\\b', all_skills.lower())\n",
    "        word_counts = Counter(words)\n",
    "        return word_counts\n",
    "\n",
    "    position_data = df[df['position'] == position_title]\n",
    "    \n",
    "    if 'education' in position_data.columns:\n",
    "        education_counts = position_data['education'].iloc[0]\n",
    "        sorted_education_counts = dict(sorted(education_counts.items(), key=lambda x: x[1], reverse=True))\n",
    "        top_5_education = dict(list(sorted_education_counts.items())[:5])\n",
    "        all_other_count = sum(sorted_education_counts.values()) - sum(top_5_education.values())\n",
    "        combined_education_counts = {**top_5_education, 'All Other': all_other_count}\n",
    "\n",
    "        plt.figure(figsize=(8, 6))\n",
    "        plt.pie(combined_education_counts.values(), labels=combined_education_counts.keys(), autopct='%1.1f%%',\n",
    "                startangle=140, colors=colors)\n",
    "        plt.title(f\"Educational Levels for {position_title}\")\n",
    "        plt.axis('equal')\n",
    "        plt.show()\n",
    "\n",
    "    fig, axes = plt.subplots(nrows=1, ncols=2, figsize=(15, 5))\n",
    "    if 'skills' in position_data.columns:\n",
    "        skills_counts = position_data['skills'].iloc[0]\n",
    "        total_skills = sum(skills_counts.values())\n",
    "        skills_percentages = {skill: (count / total_skills) * 100 for skill, count in\n",
    "                              position_data['skills'].iloc[0].items()}\n",
    "        skills_df = pd.DataFrame(list(skills_percentages.items()), columns=['skill', 'p'])\n",
    "        skills_df = skills_df.sort_values(by='p', ascending=True)\n",
    "\n",
    "        num_skills_to_display = min(15, len(skills_df))\n",
    "        skills_df = skills_df.iloc[-num_skills_to_display:]\n",
    "\n",
    "        axes[0].barh(skills_df['skill'], skills_df['p'], color='#A3816A', edgecolor='#0A065D', alpha=0.8)\n",
    "        axes[0].set_xlabel('Percentage (%)')\n",
    "        axes[0].set_ylabel('Skill')\n",
    "        axes[0].set_title(f'Top Skills for {position_title} (%)')\n",
    "\n",
    "        summary_text = generate_summary_text(skills_counts, education_counts)\n",
    "        max_text_width = 50\n",
    "        wrapped_text = textwrap.fill(summary_text, width=max_text_width)\n",
    "        axes[1].axis('off')\n",
    "        axes[1].text(0.5, 0.5, wrapped_text, fontsize=12, ha='center', va='center', fontfamily='Arial',\n",
    "                     fontweight='bold', wrap=True)\n",
    "        plt.show()\n",
    "    fig, axes = plt.subplots(nrows=1, ncols=2, figsize=(15, 5))\n",
    "    if 'years_of_experience' in position_data.columns:\n",
    "        years_of_experience = position_data['years_of_experience'].explode().reset_index()\n",
    "        sns.kdeplot(data=years_of_experience,x= 'years_of_experience', ax=axes[0],palette=['#A3816A'])\n",
    "        axes[0].set_title(f\"Years of Experience for {position_title}\")\n",
    "        axes[0].set_xlabel(\"Years of Experience\")\n",
    "        axes[0].set_ylabel(\"Frequency\")\n",
    "\n",
    "        sns.boxplot(years_of_experience['years_of_experience'],ax=axes[1], vert=True,linewidth=1.5,saturation=0.8,medianprops={\"color\": \"black\", \"linewidth\": 1 ,\"linestyle\":'--'})\n",
    "        axes[1].set_title(f\"Years of Experience for {position_title}\")\n",
    "        axes[1].set_xlabel(\"Years of Experience\")\n",
    "\n",
    "        plt.tight_layout()\n",
    "        plt.show()\n",
    "\n",
    "    bag_of_words = create_bag_of_words(position_data)\n",
    "    create_word_cloud(bag_of_words)"
   ],
   "metadata": {
    "collapsed": false
   },
   "id": "8497b3d7509eccb4"
  },
  {
   "cell_type": "code",
   "execution_count": null,
   "outputs": [],
   "source": [
    "user_input = 'Accountant'\n",
    "pdf = entity_match_results[entity_match_results['position'] == user_input]\n",
    "plot_position_data2(entity_match_results, user_input)"
   ],
   "metadata": {
    "collapsed": false
   },
   "id": "694347ceeec18ddd"
  }
 ],
 "metadata": {
  "kernelspec": {
   "display_name": "Python 3",
   "language": "python",
   "name": "python3"
  },
  "language_info": {
   "codemirror_mode": {
    "name": "ipython",
    "version": 2
   },
   "file_extension": ".py",
   "mimetype": "text/x-python",
   "name": "python",
   "nbconvert_exporter": "python",
   "pygments_lexer": "ipython2",
   "version": "2.7.6"
  }
 },
 "nbformat": 4,
 "nbformat_minor": 5
}
